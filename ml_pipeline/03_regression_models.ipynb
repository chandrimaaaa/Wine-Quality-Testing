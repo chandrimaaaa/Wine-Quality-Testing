{
 "cells": [
  {
   "cell_type": "code",
   "execution_count": 17,
   "id": "dc0b5ca8",
   "metadata": {},
   "outputs": [],
   "source": [
    "# --- Imports ---\n",
    "import pandas as pd\n",
    "import numpy as np\n",
    "\n",
    "# For Preprocessing\n",
    "from sklearn.model_selection import train_test_split, GridSearchCV, cross_val_score\n",
    "from sklearn.preprocessing import StandardScaler, OneHotEncoder\n",
    "from sklearn.compose import ColumnTransformer\n",
    "from sklearn.pipeline import Pipeline\n",
    "\n",
    "# For Modeling\n",
    "from sklearn.linear_model import LinearRegression\n",
    "from sklearn.ensemble import RandomForestRegressor\n",
    "from sklearn.dummy import DummyRegressor\n",
    "\n",
    "# For Evaluation\n",
    "from sklearn.metrics import mean_squared_error, mean_absolute_error, r2_score\n",
    "\n",
    "# For Saving Models\n",
    "import joblib\n",
    "import os\n",
    "\n",
    "# Visualization\n",
    "import matplotlib.pyplot as plt\n"
   ]
  },
  {
   "cell_type": "code",
   "execution_count": 18,
   "id": "9c9ebfb5",
   "metadata": {},
   "outputs": [],
   "source": [
    "os.makedirs(\"models\", exist_ok=True)"
   ]
  },
  {
   "cell_type": "code",
   "execution_count": 3,
   "id": "7d8d7e8d",
   "metadata": {},
   "outputs": [],
   "source": [
    "# --- Load Data ---\n",
    "file_path = 'data/processed/wine_quality_cleaned.csv'\n",
    "df = pd.read_csv(file_path)"
   ]
  },
  {
   "cell_type": "code",
   "execution_count": 4,
   "id": "28063b73",
   "metadata": {},
   "outputs": [],
   "source": [
    "# --- Feature Engineering ---\n",
    "df['good_quality'] = (df['quality'] >= 7).astype(int)  # classification target\n",
    "df['acid_ratio'] = df['fixed acidity'] / (df['volatile acidity'] + 1e-6)\n",
    "df['density_alcohol_interaction'] = df['density'] * df['alcohol']\n"
   ]
  },
  {
   "cell_type": "code",
   "execution_count": 5,
   "id": "1bfe0f6e",
   "metadata": {},
   "outputs": [],
   "source": [
    "# --- Define Features and Target for Regression ---\n",
    "X = df.drop(['quality', 'good_quality'], axis=1)\n",
    "y_reg = df['quality']"
   ]
  },
  {
   "cell_type": "code",
   "execution_count": 6,
   "id": "d1c1a716",
   "metadata": {},
   "outputs": [],
   "source": [
    "# --- Train/Test Split ---\n",
    "X_train_reg, X_test_reg, y_train_reg, y_test_reg = train_test_split(\n",
    "    X, y_reg, test_size=0.3, random_state=42\n",
    ")"
   ]
  },
  {
   "cell_type": "code",
   "execution_count": 7,
   "id": "3c9afec9",
   "metadata": {},
   "outputs": [],
   "source": [
    "# --- Preprocessor ---\n",
    "numeric_features = X.select_dtypes(include=np.number).columns.tolist()\n",
    "categorical_features = X.select_dtypes(exclude=np.number).columns.tolist()\n",
    "\n",
    "numeric_transformer = StandardScaler()\n",
    "categorical_transformer = OneHotEncoder(handle_unknown='ignore')\n",
    "\n",
    "preprocessor = ColumnTransformer(\n",
    "    transformers=[\n",
    "        ('num', numeric_transformer, numeric_features),\n",
    "        ('cat', categorical_transformer, categorical_features)\n",
    "    ]\n",
    ")"
   ]
  },
  {
   "cell_type": "code",
   "execution_count": 8,
   "id": "100710a6",
   "metadata": {},
   "outputs": [
    {
     "name": "stdout",
     "output_type": "stream",
     "text": [
      "--- Baseline Model ---\n",
      "RMSE: 0.8750\n",
      "\n"
     ]
    }
   ],
   "source": [
    "# Baseline Model\n",
    "dummy_reg = DummyRegressor(strategy=\"mean\")\n",
    "dummy_reg.fit(X_train_reg, y_train_reg)\n",
    "baseline_preds = dummy_reg.predict(X_test_reg)\n",
    "baseline_rmse = np.sqrt(mean_squared_error(y_test_reg, baseline_preds))\n",
    "print(f\"--- Baseline Model ---\\nRMSE: {baseline_rmse:.4f}\\n\")\n"
   ]
  },
  {
   "cell_type": "code",
   "execution_count": 9,
   "id": "291da9a7",
   "metadata": {},
   "outputs": [
    {
     "name": "stdout",
     "output_type": "stream",
     "text": [
      "--- Linear Regression Results ---\n",
      "Test RMSE: 0.7297\n",
      "Test MAE: 0.5675\n",
      "Test R-squared: 0.3045\n",
      "CV RMSE (5-fold): 0.7334\n",
      "\n"
     ]
    }
   ],
   "source": [
    "# Model 1 - Linear Regression\n",
    "\n",
    "lr_pipeline = Pipeline(steps=[\n",
    "    ('preprocessor', preprocessor),\n",
    "    ('regressor', LinearRegression())\n",
    "])\n",
    "\n",
    "lr_pipeline.fit(X_train_reg, y_train_reg)\n",
    "y_pred_lr = lr_pipeline.predict(X_test_reg)\n",
    "\n",
    "rmse_lr = np.sqrt(mean_squared_error(y_test_reg, y_pred_lr))\n",
    "mae_lr = mean_absolute_error(y_test_reg, y_pred_lr)\n",
    "r2_lr = r2_score(y_test_reg, y_pred_lr)\n",
    "\n",
    "cv_scores = cross_val_score(lr_pipeline, X_train_reg, y_train_reg,\n",
    "                            cv=5, scoring=\"neg_root_mean_squared_error\")\n",
    "cv_rmse_lr = -cv_scores.mean()\n",
    "\n",
    "print(\"--- Linear Regression Results ---\")\n",
    "print(f\"Test RMSE: {rmse_lr:.4f}\")\n",
    "print(f\"Test MAE: {mae_lr:.4f}\")\n",
    "print(f\"Test R-squared: {r2_lr:.4f}\")\n",
    "print(f\"CV RMSE (5-fold): {cv_rmse_lr:.4f}\\n\")"
   ]
  },
  {
   "cell_type": "code",
   "execution_count": 10,
   "id": "175af7c2",
   "metadata": {},
   "outputs": [
    {
     "name": "stdout",
     "output_type": "stream",
     "text": [
      "--- Random Forest Regressor Results ---\n",
      "Test RMSE: 0.6853\n",
      "Test MAE: 0.5261\n",
      "Test R-squared: 0.3865\n",
      "\n"
     ]
    }
   ],
   "source": [
    "# Model 2 - Random Forest Regressor\n",
    "\n",
    "rf_pipeline = Pipeline(steps=[\n",
    "    ('preprocessor', preprocessor),\n",
    "    ('regressor', RandomForestRegressor(n_estimators=100, random_state=42))\n",
    "])\n",
    "\n",
    "rf_pipeline.fit(X_train_reg, y_train_reg)\n",
    "y_pred_rf = rf_pipeline.predict(X_test_reg)\n",
    "\n",
    "rmse_rf = np.sqrt(mean_squared_error(y_test_reg, y_pred_rf))\n",
    "mae_rf = mean_absolute_error(y_test_reg, y_pred_rf)\n",
    "r2_rf = r2_score(y_test_reg, y_pred_rf)\n",
    "\n",
    "print(\"--- Random Forest Regressor Results ---\")\n",
    "print(f\"Test RMSE: {rmse_rf:.4f}\")\n",
    "print(f\"Test MAE: {mae_rf:.4f}\")\n",
    "print(f\"Test R-squared: {r2_rf:.4f}\\n\")"
   ]
  },
  {
   "cell_type": "code",
   "execution_count": 12,
   "id": "a0fa302b",
   "metadata": {},
   "outputs": [
    {
     "name": "stdout",
     "output_type": "stream",
     "text": [
      "Starting Grid Search for RandomForestRegressor...\n",
      "Fitting 5 folds for each of 18 candidates, totalling 90 fits\n",
      "\n",
      "Grid Search Complete.\n",
      "Best Hyperparameters: {'regressor__max_depth': 20, 'regressor__min_samples_leaf': 2, 'regressor__n_estimators': 200}\n",
      "Best CV RMSE: 0.7087\n"
     ]
    }
   ],
   "source": [
    "# Hyperparameter Tuning - Random Forest\n",
    "\n",
    "param_grid = {\n",
    "    'regressor__n_estimators': [100, 200],\n",
    "    'regressor__max_depth': [10, 20, None],\n",
    "    'regressor__min_samples_leaf': [1, 2, 4]\n",
    "}\n",
    "\n",
    "grid_search = GridSearchCV(\n",
    "    estimator=rf_pipeline,\n",
    "    param_grid=param_grid,\n",
    "    cv=5,\n",
    "    scoring='neg_root_mean_squared_error',\n",
    "    n_jobs=-1,\n",
    "    verbose=2\n",
    ")\n",
    "\n",
    "print(\"Starting Grid Search for RandomForestRegressor...\")\n",
    "grid_search.fit(X_train_reg, y_train_reg)\n",
    "\n",
    "print(\"\\nGrid Search Complete.\")\n",
    "print(f\"Best Hyperparameters: {grid_search.best_params_}\")\n",
    "best_rmse_cv = -1 * grid_search.best_score_\n",
    "print(f\"Best CV RMSE: {best_rmse_cv:.4f}\")"
   ]
  },
  {
   "cell_type": "code",
   "execution_count": 13,
   "id": "1f5d693a",
   "metadata": {},
   "outputs": [
    {
     "name": "stdout",
     "output_type": "stream",
     "text": [
      "\n",
      "--- Tuned Random Forest Results on Test Set ---\n",
      "Test RMSE: 0.6795 (Untuned: 0.6853)\n",
      "Test MAE: 0.5207\n",
      "Test R-squared: 0.3969\n",
      "\n"
     ]
    }
   ],
   "source": [
    "best_model = grid_search.best_estimator_\n",
    "y_pred_best = best_model.predict(X_test_reg)\n",
    "\n",
    "rmse_best = np.sqrt(mean_squared_error(y_test_reg, y_pred_best))\n",
    "mae_best = mean_absolute_error(y_test_reg, y_pred_best)\n",
    "r2_best = r2_score(y_test_reg, y_pred_best)\n",
    "\n",
    "print(\"\\n--- Tuned Random Forest Results on Test Set ---\")\n",
    "print(f\"Test RMSE: {rmse_best:.4f} (Untuned: {rmse_rf:.4f})\")\n",
    "print(f\"Test MAE: {mae_best:.4f}\")\n",
    "print(f\"Test R-squared: {r2_best:.4f}\\n\")"
   ]
  },
  {
   "cell_type": "code",
   "execution_count": 14,
   "id": "8d9b3e9a",
   "metadata": {},
   "outputs": [
    {
     "data": {
      "image/png": "[encoded data removed]",
      "text/plain": [
       "<Figure size 1000x600 with 1 Axes>"
      ]
     },
     "metadata": {},
     "output_type": "display_data"
    }
   ],
   "source": [
    "# Feature Importance (from Random Forest)\n",
    "# ----------------------------\n",
    "feature_names = (\n",
    "    numeric_features +\n",
    "    list(best_model.named_steps['preprocessor']\n",
    "         .named_transformers_['cat']\n",
    "         .get_feature_names_out(categorical_features))\n",
    ")\n",
    "\n",
    "importances = best_model.named_steps['regressor'].feature_importances_\n",
    "sorted_idx = np.argsort(importances)[::-1]\n",
    "\n",
    "plt.figure(figsize=(10, 6))\n",
    "plt.bar(range(len(importances)), importances[sorted_idx])\n",
    "plt.xticks(range(len(importances)), np.array(feature_names)[sorted_idx], rotation=90)\n",
    "plt.title(\"Feature Importances from Random Forest\")\n",
    "plt.tight_layout()\n",
    "plt.show()"
   ]
  },
  {
   "cell_type": "code",
   "execution_count": 19,
   "id": "2544a197",
   "metadata": {},
   "outputs": [
    {
     "name": "stdout",
     "output_type": "stream",
     "text": [
      "Best model saved to models/best_regressor.pkl\n"
     ]
    }
   ],
   "source": [
    "# Save the Best Model\n",
    "# ----------------------------\n",
    "joblib.dump(best_model, \"models/best_regressor.pkl\")\n",
    "print(\"Best model saved to models/best_regressor.pkl\")"
   ]
  }
 ],
 "metadata": {
  "kernelspec": {
   "display_name": "Python 3",
   "language": "python",
   "name": "python3"
  },
  "language_info": {
   "codemirror_mode": {
    "name": "ipython",
    "version": 3
   },
   "file_extension": ".py",
   "mimetype": "text/x-python",
   "name": "python",
   "nbconvert_exporter": "python",
   "pygments_lexer": "ipython3",
   "version": "3.13.5"
  }
 },
 "nbformat": 4,
 "nbformat_minor": 5
}
